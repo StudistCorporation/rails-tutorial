{
 "cells": [
  {
   "cell_type": "markdown",
   "id": "9966f28d",
   "metadata": {},
   "source": [
    "# Ruby基礎\n",
    "\n",
    "このノートブックはRubyの基礎を学ぶためのものです。  \n",
    "各セクションには説明とコード例が含まれています。コードセルを実行して、結果を確認しながら学習を進めてください。\n",
    "\n",
    "既に他の言語を習熟している場合には、[他言語からのRuby入門](https://www.ruby-lang.org/ja/documentation/ruby-from-other-languages/)を参照すると良いです。\n",
    "\n",
    "## 1. Rubyの導入\n",
    "\n",
    "### 1.1 Rubyスクリプトの実行方法\n",
    "\n",
    "Rubyスクリプトは通常、コマンドラインから `ruby` コマンドを使って実行します。  \n",
    "ここでは、Jupyter Notebook 環境で Ruby コードを直接実行できます。"
   ]
  },
  {
   "cell_type": "code",
   "execution_count": null,
   "id": "de3658c1",
   "metadata": {},
   "outputs": [],
   "source": [
    "1 + 2"
   ]
  },
  {
   "cell_type": "markdown",
   "id": "d9321163",
   "metadata": {},
   "source": [
    "### 1.2 標準出力への文字列出力\n",
    "\n",
    "`puts` メソッドを使用して、標準出力に文字列を出力します。"
   ]
  },
  {
   "cell_type": "code",
   "execution_count": null,
   "id": "ab141fba-ec69-4169-a301-e06a23fae7be",
   "metadata": {},
   "outputs": [],
   "source": [
    "puts \"Hello, World!\""
   ]
  },
  {
   "cell_type": "markdown",
   "id": "400dc94b",
   "metadata": {},
   "source": [
    "### 1.3 コメントの書き方\n",
    "\n",
    "Rubyでは、`#` を使って1行コメントを書きます。  \n",
    "複数行のコメントは `=begin` と `=end` で囲むことでも表現はできますが、実際には使われることは少ないです。"
   ]
  },
  {
   "cell_type": "code",
   "execution_count": null,
   "id": "e93dc407",
   "metadata": {},
   "outputs": [],
   "source": [
    "# これは1行コメントです\n",
    "\n",
    "=begin\n",
    "これは\n",
    "複数行の\n",
    "コメントです\n",
    "=end\n",
    "\n",
    "# これは\n",
    "# 複数行の\n",
    "# コメントです\n",
    "\n",
    "puts \"コメントの例\""
   ]
  },
  {
   "cell_type": "markdown",
   "id": "eb351a58",
   "metadata": {},
   "source": [
    "## 2. 変数とデータ型\n",
    "\n",
    "### 2.1 ローカル変数の使用\n",
    "\n",
    "Rubyでは、変数名に利用可能な文字は幅広く、アルファベット・数字・アンダースコア・記号（一部）・マルチバイト文字が使えます。  \n",
    "一般的な命名規則では、スネークケースを用いて `snake_case` のように記述します。"
   ]
  },
  {
   "cell_type": "code",
   "execution_count": null,
   "id": "aef81217",
   "metadata": {},
   "outputs": [],
   "source": [
    "# 通常\n",
    "name = \"Alice\"\n",
    "age = 30\n",
    "puts \"#{name} is #{age} years old.\"\n",
    "\n",
    "# マルチバイト文字を含む場合\n",
    "名前 = \"Bob\"\n",
    "年齢 = 20\n",
    "puts \"#{名前}は#{年齢}歳です。\""
   ]
  },
  {
   "cell_type": "markdown",
   "id": "7549c3ee",
   "metadata": {},
   "source": [
    "### 2.2 整数と浮動小数点数\n",
    "\n",
    "整数と浮動小数点数は、それぞれ `Integer` と `Float` クラスで表されます。  \n",
    "Floatでは計算誤差が発生することもあるため、適宣にRationalやBigDecimalを使うこともあります。"
   ]
  },
  {
   "cell_type": "code",
   "execution_count": null,
   "id": "7d786cfe",
   "metadata": {},
   "outputs": [],
   "source": [
    "# Integer\n",
    "puts 1 + 2\n",
    "\n",
    "# Float\n",
    "puts 0.1 + 0.2\n",
    "\n",
    "# Rational\n",
    "puts 1/2r + 1/3r\n",
    "\n",
    "# BigDecimal\n",
    "require 'bigdecimal'\n",
    "puts BigDecimal('0.1') + BigDecimal('0.2')\n",
    "\n",
    "# Complex\n",
    "puts 1 + 2i"
   ]
  },
  {
   "cell_type": "markdown",
   "id": "3d174386",
   "metadata": {},
   "source": [
    "### 2.3 文字列\n",
    "\n",
    "Rubyでは、文字列をシングルクォートまたはダブルクォートで囲みます。\n",
    "変数を埋め込む場合はダブルクオート、埋め込まない場合はシングルクォートを使うことが一般的です。"
   ]
  },
  {
   "cell_type": "code",
   "execution_count": null,
   "id": "9e66e55a",
   "metadata": {},
   "outputs": [],
   "source": [
    "single_quoted = 'Hello, Ruby!'\n",
    "double_quoted = \"Hello, #{name}!\"\n",
    "\n",
    "puts single_quoted\n",
    "puts double_quoted"
   ]
  },
  {
   "cell_type": "markdown",
   "id": "0eff87b3",
   "metadata": {},
   "source": [
    "### 2.4 シンボル\n",
    "\n",
    "シンボルは、コロン (`:`) で始まる識別子です。  \n",
    "シンボルは文字列と似ていますが、異なるオブジェクトとして扱われ、メモリ効率が良いため、ハッシュのキーとしてよく使われます。"
   ]
  },
  {
   "cell_type": "code",
   "execution_count": null,
   "id": "60c9ea43",
   "metadata": {},
   "outputs": [],
   "source": [
    "status = :active\n",
    "\n",
    "puts status\n",
    "# object_idはオブジェクトの識別子で同一であれば同じ値になる\n",
    "puts \"Symbol: #{:active.object_id == :active.object_id}\"\n",
    "puts \"String: #{'active'.object_id == 'active'.object_id}\""
   ]
  },
  {
   "cell_type": "markdown",
   "id": "940e1fa3",
   "metadata": {},
   "source": [
    "### 2.5 真偽値\n",
    "\n",
    "Rubyでは `true` と `false` が真偽値として使用されます。  \n",
    "後述する `nil` は偽として扱われ、それ以外の値は真として扱われます。"
   ]
  },
  {
   "cell_type": "code",
   "execution_count": null,
   "id": "8e1c3cbf",
   "metadata": {},
   "outputs": [],
   "source": [
    "is_ruby_fun = true\n",
    "puts \"Ruby is fun: #{is_ruby_fun}\""
   ]
  },
  {
   "cell_type": "markdown",
   "id": "f2aa6548",
   "metadata": {},
   "source": [
    "### 2.6 nil\n",
    "\n",
    "`nil` は「何もない」ことを持つオブジェクトで、他言語でいう `null` や `undefined` に相当します。  \n",
    "他の言語と異なり、Rubyでは `nil` もオブジェクトであり、`NilClass` クラスのインスタンスです。"
   ]
  },
  {
   "cell_type": "code",
   "execution_count": null,
   "id": "c2c88f21",
   "metadata": {},
   "outputs": [],
   "source": [
    "puts \"nil: #{nil}\"\n",
    "puts nil.class"
   ]
  },
  {
   "cell_type": "markdown",
   "id": "6870c8d7",
   "metadata": {},
   "source": [
    "## 3. 基本的な演算\n",
    "\n",
    "### 3.1 算術演算\n",
    "\n",
    "Rubyでは、加算（`+`）、減算（`-`）、乗算（`*`）、除算（`/`）、剰余（`%`）、べき乗（`**`）などの算術演算子が使えます。  \n",
    "これらの演算子はメソッドとして定義されているため、直接メソッドを呼び出すこともできます。"
   ]
  },
  {
   "cell_type": "code",
   "execution_count": null,
   "id": "5da0e6ef",
   "metadata": {},
   "outputs": [],
   "source": [
    "a = 10\n",
    "b = 3\n",
    "\n",
    "puts \"加算: #{a + b}\"\n",
    "puts \"減算: #{a - b}\"\n",
    "puts \"乗算: #{a * b}\"\n",
    "puts \"除算: #{a / b}\"\n",
    "puts \"剰余: #{a % b}\"\n",
    "puts \"べき乗: #{a ** b}\"\n",
    "\n",
    "# メソットとしても呼び出せる\n",
    "puts \"加算: #{a.+(b)}\""
   ]
  },
  {
   "cell_type": "markdown",
   "id": "e38d0a7c",
   "metadata": {},
   "source": [
    "### 3.2 比較演算\n",
    "\n",
    "比較演算子には、等しい（`==`）、等しくない（`!=`）、より大きい（`>`）、より小さい（`<`）、以上（`>=`）、以下（`<=`）などがあります。  "
   ]
  },
  {
   "cell_type": "code",
   "execution_count": null,
   "id": "be52ce5a",
   "metadata": {},
   "outputs": [],
   "source": [
    "x = 5\n",
    "y = 10\n",
    "\n",
    "puts \"x == y: #{x == y}\"\n",
    "puts \"x != y: #{x != y}\"\n",
    "puts \"x < y: #{x < y}\"\n",
    "puts \"x > y: #{x > y}\"\n",
    "puts \"x <= y: #{x <= y}\"\n",
    "puts \"x >= y: #{x >= y}\""
   ]
  },
  {
   "cell_type": "markdown",
   "id": "90b1a0d5",
   "metadata": {},
   "source": [
    "### 3.3 論理演算\n",
    "\n",
    "論理演算子には、論理積（`&&`）、論理和（`||`）、否定（`!`）があります。[]"
   ]
  },
  {
   "cell_type": "code",
   "execution_count": null,
   "id": "c63410af",
   "metadata": {},
   "outputs": [],
   "source": [
    "a = true\n",
    "b = false\n",
    "\n",
    "puts \"a && b: #{a && b}\"\n",
    "puts \"a || b: #{a || b}\"\n",
    "puts \"!a: #{!a}\""
   ]
  },
  {
   "cell_type": "markdown",
   "id": "83bbf38f",
   "metadata": {},
   "source": [
    "### 3.4 ビット演算\n",
    "\n",
    "ビット演算子には、ビット単位の論理積（`&`）、ビット単位の論理和（`|`）、ビット単位の否定（`~`）、ビット単位の排他的論理和（`^`）、ビットシフト（`<<`、`>>`）などがあります。"
   ]
  },
  {
   "cell_type": "code",
   "execution_count": null,
   "id": "887f50ca",
   "metadata": {},
   "outputs": [],
   "source": [
    "a = 0b1010\n",
    "b = 0b1100\n",
    "\n",
    "puts \"a & b = #{a & b}\" # 8\n",
    "puts \"a | b = #{a | b}\" # 14\n",
    "puts \"a ^ b = #{a ^ b}\" # 6\n",
    "puts \"~a = #{~a}\" # -11\n",
    "puts \"a << 1 = #{a << 1}\" # 20\n",
    "puts \"b >> 1 = #{b >> 1}\" # 6"
   ]
  },
  {
   "cell_type": "markdown",
   "id": "df8bebe8",
   "metadata": {},
   "source": [
    "## 4. データ構造\n",
    "\n",
    "### 4.1 Array\n",
    "\n",
    "Arrayは、複数の要素を順番に格納するデータ構造です。  \n",
    "Arrayは `[]` で囲み、要素はカンマで区切ります。要素のインデックスは0から始まります。"
   ]
  },
  {
   "cell_type": "code",
   "execution_count": null,
   "id": "e9a7e88d",
   "metadata": {},
   "outputs": [],
   "source": [
    "fruits = [\"apple\", \"banana\", \"orange\"]\n",
    "\n",
    "puts \"最初の要素: #{fruits[0]}\" # 先頭\n",
    "puts \"最初の要素（メソッド）: #{fruits.first}\"\n",
    "puts \"最後の要素: #{fruits[-1]}\" # 末尾\n",
    "puts \"要素数: #{fruits.length}\"\n",
    "\n",
    "# 要素の追加　\n",
    "fruits << \"grape\"\n",
    "puts \"追加後の配列: #{fruits}\""
   ]
  },
  {
   "cell_type": "markdown",
   "id": "1c744865",
   "metadata": {},
   "source": [
    "### 4.2 Hash\n",
    "\n",
    "Hashは、KeyとValueのペアを格納するデータ構造です。  \n",
    "Hashは `{}` で囲み、KeyとValueは `:` で区切ります。Keyは一意でなければならないが、Valueには重複が許されます。  \n",
    "また文字列をKeyとして使う場合は、Hash Rocket (`=>`) を使うこともできます。\n",
    "\n",
    "```ruby\n",
    "```"
   ]
  },
  {
   "cell_type": "code",
   "execution_count": null,
   "id": "f72eb397",
   "metadata": {},
   "outputs": [],
   "source": [
    "person = { name: \"Bob\", age: 25, city: \"Tokyo\" }\n",
    "\n",
    "puts \"名前: #{person[:name]}\"\n",
    "puts \"年齢: #{person[:age]}\"\n",
    "\n",
    "# ハッシュの更新\n",
    "person[:occupation] = \"Engineer\"\n",
    "puts \"更新後のハッシュ: #{person}\"\n",
    "\n",
    "# 文字列をキーにする場合\n",
    "hash = { \"string\" => 1, \"symbol\": 2 }\n",
    "puts \"キー: #{hash.keys}\""
   ]
  },
  {
   "cell_type": "markdown",
   "id": "5fde90e4",
   "metadata": {},
   "source": [
    "### 4.3 Range\n",
    "\n",
    "Rangeは、連続する値の範囲を表すデータ構造です。  \n",
    "`..` または `...` を使って範囲を指定します。`..` は終端を含み、`...` は終端を含まない範囲を表します。"
   ]
  },
  {
   "cell_type": "code",
   "execution_count": null,
   "id": "09859525",
   "metadata": {},
   "outputs": [],
   "source": [
    "puts \"範囲（..）: #{(1..5).to_a}\"\n",
    "puts \"範囲（...）: #{(1...5).to_a}\""
   ]
  },
  {
   "cell_type": "markdown",
   "id": "825222bc",
   "metadata": {},
   "source": [
    "\n",
    "## 5. 制御構造\n",
    "\n",
    "### 5.1 条件分岐\n",
    "\n",
    "Rubyでは、`if`、`elsif`、`else`、`unless` などの条件分岐を使ってプログラムの流れを制御します。  \n",
    "末尾に `if` や `unless` を置くことで、省略した条件式を使うこともできます。"
   ]
  },
  {
   "cell_type": "code",
   "execution_count": null,
   "id": "9e0641ac",
   "metadata": {},
   "outputs": [],
   "source": [
    "x = 10\n",
    "\n",
    "# if, elsif, else\n",
    "if x > 5\n",
    "  puts \"xは5より大きい\"\n",
    "elsif x < 5\n",
    "  puts \"xは5より小さい\"\n",
    "else\n",
    "  puts \"xは5に等しい\"\n",
    "end\n",
    "\n",
    "# 1行で書く場合\n",
    "puts \"xは10です\" if x == 10\n",
    "\n",
    "# unless\n",
    "unless x < 0 # if !(x < 0)と同じ\n",
    "  puts \"xは非負の数です\"\n",
    "end"
   ]
  },
  {
   "cell_type": "markdown",
   "id": "28085e75",
   "metadata": {},
   "source": [
    "### 5.2 繰り返し\n",
    "\n",
    "Rubyでは、`times` メソッド、`each` メソッド、`while` ループ、`for` ループなどを使って繰り返し処理を行います。  \n",
    "\n",
    "- `times` ... 指定した回数だけ繰り返し処理を行う\n",
    "- `each` ... 配列の要素ごとに繰り返し処理を行う\n",
    "- `while` ... 条件が真の間、繰り返し処理を行う\n",
    "- `for` ... 指定した範囲だけ繰り返し処理を行う\n",
    "\n",
    "一般的には、`times` や `each` メソッドを使った繰り返し処理がよく使われます。"
   ]
  },
  {
   "cell_type": "code",
   "execution_count": null,
   "id": "ca3842a3",
   "metadata": {},
   "outputs": [],
   "source": [
    "# timesメソッド\n",
    "5.times { puts \"Hello!\" }\n",
    "\n",
    "# eachメソッド\n",
    "[1, 2, 3].each { |num| puts num * 2 }\n",
    "\n",
    "# whileループ\n",
    "count = 0\n",
    "while count < 3\n",
    "  puts \"Count: #{count}\"\n",
    "  count += 1\n",
    "end\n",
    "\n",
    "# forループ\n",
    "for i in 1..3\n",
    "  puts \"Number: #{i}\"\n",
    "end"
   ]
  },
  {
   "cell_type": "markdown",
   "id": "a8dbc2ef",
   "metadata": {},
   "source": [
    "## 6. メソッド\n",
    "\n",
    "### 6.1 メソッドの定義と呼び出し\n",
    "\n",
    "Rubyでは、メソッドを定義するために `def` キーワードを使います。  \n",
    "メソッドの呼び出しは、メソッド名に続けて `()` をつけて行いますが、`()` は省略することもできます。  \n",
    "また他にも呼び出し方はいくつかあるので、使い分けることができます。"
   ]
  },
  {
   "cell_type": "code",
   "execution_count": null,
   "id": "d9d79bcb",
   "metadata": {},
   "outputs": [],
   "source": [
    "# メソッドの定義\n",
    "def greet(name)\n",
    "  \"Hello, #{name}!\"\n",
    "end\n",
    "\n",
    "# メソッドの呼び出し\n",
    "puts greet(\"Ruby\")\n",
    "\n",
    "# 括弧を省略した場合\n",
    "puts greet \"Jupyter\"\n",
    "\n",
    "# 他の呼び出し方\n",
    "puts send(:greet, \"Python\")\n",
    "puts method(:greet).call(\"Perl\")"
   ]
  },
  {
   "cell_type": "markdown",
   "id": "861e9878",
   "metadata": {},
   "source": [
    "### 6.2 引数とデフォルト値\n",
    "\n",
    "メソッドの引数にはデフォルト値を設定することができます。  "
   ]
  },
  {
   "cell_type": "code",
   "execution_count": null,
   "id": "f24effef",
   "metadata": {},
   "outputs": [],
   "source": [
    "# exponentのデフォルト値は2\n",
    "def power(base, exponent = 2)\n",
    "  base ** exponent\n",
    "end\n",
    "\n",
    "puts power(3)    # 3の2乗\n",
    "puts power(3, 3) # 3の3乗"
   ]
  },
  {
   "cell_type": "markdown",
   "id": "e3a1904f",
   "metadata": {},
   "source": [
    "### 6.3 キーワード引数\n",
    "\n",
    "キーワード引数を使って、引数の順番を気にせずにメソッドを呼び出すことができます。  "
   ]
  },
  {
   "cell_type": "code",
   "execution_count": null,
   "id": "22a0d494",
   "metadata": {},
   "outputs": [],
   "source": [
    "# キーワード引数\n",
    "def introduce(name:, age:, city: \"Unknown\")\n",
    "  \"My name is #{name}, I'm #{age} years old, and I'm from #{city}.\"\n",
    "end\n",
    "\n",
    "puts introduce(name: \"Alice\", age: 30)\n",
    "puts introduce(age: 25, name: \"Bob\", city: \"New York\") # 順番を変えてもOK"
   ]
  },
  {
   "cell_type": "markdown",
   "id": "d6d63546",
   "metadata": {},
   "source": [
    "### 6.4 ブロックを受け取るメソッド\n",
    "\n",
    "ブロックを受け取るメソッドは、`yield` を使ってブロックを実行します。  \n",
    "明示的にブロックを受け取る場合は、`&block` を引数に指定することもできます。"
   ]
  },
  {
   "cell_type": "code",
   "execution_count": null,
   "id": "c0960ad5",
   "metadata": {},
   "outputs": [],
   "source": [
    "# yieldを使ったブロックの呼び出し\n",
    "def repeat(n)\n",
    "  n.times { yield }\n",
    "end\n",
    "repeat(3) { puts \"yield!\" }\n",
    "\n",
    "# ブロックを引数として受け取る\n",
    "def repeat(n, &block)\n",
    "  n.times { block.call }\n",
    "end\n",
    "repeat(3) { puts \"block!\" }"
   ]
  },
  {
   "cell_type": "markdown",
   "id": "1dfd415f",
   "metadata": {},
   "source": [
    "### 6.5 無名関数\n",
    "\n",
    "Rubyでは、無名関数（ラムダ式）を作成するために `lambda` メソッドや `->` 構文を使います。  \n",
    "無名関数は、変数に代入して使うことができますが、実行する場合は `call` メソッドやその省略形である `.` 、`[]` を使います。"
   ]
  },
  {
   "cell_type": "code",
   "execution_count": null,
   "id": "90f6ab7d",
   "metadata": {},
   "outputs": [],
   "source": [
    "# 無名関数\n",
    "hello = ->(name) { \"Hello, #{name}!\" }\n",
    "puts hello.call(\"World\")\n",
    "puts hello.(\"Perl\")\n",
    "puts hello[\"Ruby\"]"
   ]
  },
  {
   "cell_type": "markdown",
   "id": "e21ca593",
   "metadata": {},
   "source": [
    "### 6.6 メソッドの返り値\n",
    "\n",
    "メソッドの返り値は、メソッド内で最後に評価された式の値です。  \n",
    "`return` キーワードを使って、途中でメソッドの実行を終了し、値を返すこともできます。\n",
    "\n",
    "> Rubyのコードを読む場合、この戻り値の特性を理解しておかないと意図しない結果になることがあるので注意が必要です。"
   ]
  },
  {
   "cell_type": "code",
   "execution_count": null,
   "id": "fed4a6b4",
   "metadata": {},
   "outputs": [],
   "source": [
    "def add(a, b)\n",
    "  a + b\n",
    "end\n",
    "puts add(1, 2) # 3\n",
    "\n",
    "# return\n",
    "def sub(a, b)\n",
    "  return a - b\n",
    "end\n",
    "puts sub(3, 2) # 1"
   ]
  },
  {
   "cell_type": "markdown",
   "id": "29baa6e9",
   "metadata": {},
   "source": [
    "## 7. 命名規則\n",
    "\n",
    "Rubyでは、変数やメソッド、クラスなどの命名には一般的な規則があります。  \n",
    "\n",
    "- 変数名、メソッド名、ファイル名はスネークケースを使う（`snake_case`）\n",
    "- クラス名はキャメルケースを使う（`CamelCase`）\n",
    "- 定数名は大文字でスネークケースを使う（`SNAKE_CASE`）\n",
    "- メソッド名の末尾に `?` をつけると真偽値を返すメソッドを表す\n",
    "- メソッド名の末尾に `!` をつけると破壊的メソッドを表す"
   ]
  },
  {
   "cell_type": "code",
   "execution_count": null,
   "id": "3344daad",
   "metadata": {},
   "outputs": [],
   "source": [
    "# 変数\n",
    "greeting_message = \"Hello, Ruby!\"\n",
    "puts greeting_message\n",
    "\n",
    "# 定数\n",
    "VERSION = 1.0 unless defined?(VERSION) # 定数の再定義は警告が出るため未定義のみの場合のみ代入\n",
    "puts VERSION\n",
    "\n",
    "# ？付きのメソッド\n",
    "def can_drink?(age)\n",
    "  age >= 20\n",
    "end\n",
    "puts can_drink?(25)\n",
    "\n",
    "# ！付きのメソッド\n",
    "greeting_message.upcase!\n",
    "puts greeting_message"
   ]
  },
  {
   "cell_type": "markdown",
   "id": "02d54f1a",
   "metadata": {},
   "source": [
    "\n",
    "## 演習問題\n",
    "\n",
    "1. 1から10までの数字を持つ配列を作成し、その中の偶数だけを新しい配列に格納して出力してください。\n",
    "\n",
    "2. 次の文字列から母音（a, e, i, o, u）を数え、それぞれの出現回数をハッシュとして出力してください。\n",
    "   \"Ruby is a dynamic, reflective, object-oriented, general-purpose programming language.\"\n",
    "\n",
    "3. 1から100までの数字で、3の倍数のときは \"Fizz\"、5の倍数のときは \"Buzz\"、3と5の両方の倍数のときは \"FizzBuzz\" を出力し、それ以外のときは数字をそのまま出力するメソッドを作成してください。\n",
    "\n",
    "これらの問題を解くことで、これまで学んだRubyの基礎的な概念を復習し、応用する機会が得られます。"
   ]
  },
  {
   "cell_type": "code",
   "execution_count": null,
   "id": "47f9cd82",
   "metadata": {},
   "outputs": [],
   "source": [
    "# Q1\n",
    "\n",
    "# Q2\n",
    "\n",
    "# Q3"
   ]
  }
 ],
 "metadata": {
  "kernelspec": {
   "display_name": "Ruby 3 (iruby kernel)",
   "language": "ruby",
   "name": "ruby3"
  },
  "language_info": {
   "file_extension": ".rb",
   "mimetype": "application/x-ruby",
   "name": "ruby",
   "version": "3.3.4"
  }
 },
 "nbformat": 4,
 "nbformat_minor": 5
}
